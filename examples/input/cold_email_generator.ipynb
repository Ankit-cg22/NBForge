{
 "cells": [
  {
   "cell_type": "code",
   "execution_count": 11,
   "id": "578e47ed-b82b-4cd6-a889-3e1fe3fbbb8c",
   "metadata": {},
   "outputs": [],
   "source": [
    "from langchain_groq import ChatGroq"
   ]
  },
  {
   "cell_type": "code",
   "execution_count": null,
   "id": "5f800168-918a-4bfd-a350-e4a5e2c098da",
   "metadata": {},
   "outputs": [],
   "source": [
    "llm = ChatGroq(\n",
    "    model = \"llama-3.3-70b-versatile\" ,\n",
    "    temperature = 0 ,\n",
    "    groq_api_key = \"<your_api_key>\"\n",
    ")"
   ]
  },
  {
   "cell_type": "markdown",
   "id": "cbf6bd9a-d29c-44a0-9d82-6884f1b807e5",
   "metadata": {},
   "source": [
    "# Web Scraping"
   ]
  },
  {
   "cell_type": "code",
   "execution_count": 1,
   "id": "ce8ca4ee-faf0-47a4-8de8-751b5c773fe6",
   "metadata": {},
   "outputs": [
    {
     "name": "stderr",
     "output_type": "stream",
     "text": [
      "USER_AGENT environment variable not set, consider setting it to identify your requests.\n"
     ]
    }
   ],
   "source": [
    "from langchain_community.document_loaders import WebBaseLoader"
   ]
  },
  {
   "cell_type": "code",
   "execution_count": 2,
   "id": "053b3f5f-1efe-465c-b81f-d0da87e5c894",
   "metadata": {},
   "outputs": [],
   "source": [
    "loader = WebBaseLoader(\"https://careers.nike.com/cdn-security-engineer/job/R-48004\")"
   ]
  },
  {
   "cell_type": "code",
   "execution_count": 3,
   "id": "4f21c0ce-393b-47d4-aa31-26c894c33412",
   "metadata": {},
   "outputs": [
    {
     "data": {
      "text/plain": [
       "\"\\n\\n\\n\\n\\n\\n\\n\\n\\n\\n\\n\\n\\n\\n\\n\\n\\n\\n\\n\\n\\nCDN Security Engineer\\n\\n\\n\\n\\n\\n\\n\\n\\n\\n\\n\\n\\n\\n\\n\\n\\n\\n\\n\\n\\n\\n\\n\\n\\n\\n\\n\\n\\n\\n\\n\\n\\n\\n\\n\\n\\n\\n\\n\\n\\n\\n\\nSkip to main content\\nOpen Virtual Assistant\\n\\n\\n\\n\\n\\n\\n\\n\\n\\n\\nHome\\n\\n\\nCareer Areas\\n\\n\\nTotal Rewards\\n\\n\\nLife@Nike\\n\\n\\nPurpose\\n\\n\\n\\n\\n\\n\\n\\n\\n\\n\\nLanguage\\n\\n\\n\\n\\n\\nSelect a Language\\n\\n  Deutsch  \\n  English  \\n  Español (España)  \\n  Español (América Latina)  \\n  Français  \\n  Italiano  \\n  Nederlands  \\n  Polski  \\n  Tiếng Việt  \\n  Türkçe  \\n  简体中文  \\n  繁體中文  \\n  한국어  \\n  日本語  \\n\\n\\n\\n\\n\\n\\n\\n\\nCareers\\n\\n\\n\\n\\n\\n\\n\\n\\n\\n\\n\\n\\n\\n\\n\\n\\n\\n\\nClose Menu\\n\\n\\n\\n\\n\\n\\n\\nCareers\\n\\n\\n\\n\\n\\n\\nChat\\n\\n\\n\\n\\n\\n\\n                                Home\\n                            \\n\\n\\n\\n                                Career Areas\\n                            \\n\\n\\n\\n                                Total Rewards\\n                            \\n\\n\\n\\n                                Life@Nike\\n                            \\n\\n\\n\\n                                Purpose\\n                            \\n\\n\\n\\n\\n\\n\\n\\n\\n\\n\\nJordan Careers\\n\\n\\n\\n\\n\\n\\n\\nConverse Careers\\n\\n\\n\\n\\n\\n\\n\\n\\n\\n\\nLanguage\\n\\n\\n\\n\\n\\n\\n\\n\\n\\n\\n\\nMenu\\n\\n\\n\\nReturn to Previous Menu\\n\\n\\n\\nSelect a Language\\n\\n  Deutsch  \\n  English  \\n  Español (España)  \\n  Español (América Latina)  \\n  Français  \\n  Italiano  \\n  Nederlands  \\n  Polski  \\n  Tiếng Việt  \\n  Türkçe  \\n  简体中文  \\n  繁體中文  \\n  한국어  \\n  日本語  \\n\\n\\n\\n\\n\\n\\n\\n\\n\\n\\n\\n\\n\\n\\n\\n\\n\\n                                Back to Search\\n\\n                            \\n\\nCDN Security Engineer\\n\\n\\nCategories ID\\n\\n\\n\\nCategories URL\\n\\n\\n\\nPosition Type\\nFull Time\\n\\n\\nDate Posted\\n\\n\\n\\nPrimary Quest ID\\n\\n\\n\\nSecond Quest ID\\n\\n\\n\\nJob Classification\\n\\n\\n\\n\\nCareer area\\nTechnology\\n\\n\\nLocation\\n1055 Howell Mill Road, Atlanta, Georgia 30326, United States\\n\\n\\n\\nJob ID\\nR-48004\\n\\n\\n\\n\\n\\n                                    Apply Now\\n                                \\n\\n\\n\\n\\n\\n\\nShare Job\\n\\n\\n\\n\\nShare Job Posting\\n\\n\\n\\n\\n\\n\\nFacebook\\nOpens In A New Tab\\n\\n\\n\\n\\n\\n\\n\\nLinkedIn\\nLink Opens In New Window\\n\\n\\n\\n\\n\\n\\n\\n\\nEmail\\n\\n\\n\\n\\n\\n\\nClose-Medium (Default Size)-icon\\n\\nClose Menu\\n\\n\\n\\n\\n\\n\\n\\n\\n\\n\\n\\n\\n\\n\\n\\nBecome a Part of the NIKE, Inc. Team\\nNIKE, Inc. does more than outfit the world’s best athletes. It is a place to explore\\n                            potential, obliterate boundaries\\n                            and push out the edges of what can be. The company looks for people who can grow, think,\\n                            dream and create. Its\\n                            culture thrives by embracing diversity and rewarding imagination. The brand seeks achievers,\\n                            leaders and\\n                            visionaries. At NIKE, Inc. it’s about each person bringing skills and passion to a\\n                            challenging and constantly\\n                            evolving game.\\n\\nWHO YOU’LL WORK WITHJoin our fast-paced TechOps Infrastructure Engineering Organization, where you empower development teams with efficient cloud environments. You will collaborate with development and engineering teams to drive standards, innovation, and growth, while fostering a culture of excellence, open communication, and continuous learning.WHO WE ARE LOOKING FORThe CDN Security Engineer is an experienced technical professional who will play a critical role in designing, implementing, and sustaining Nike's cloud infrastructure and security posture, with a focus on Content Delivery Network (CDN) security. This individual will possess a unique blend of technical expertise, business acumen, and collaboration skills to drive innovation and excellence.The ideal candidate will have a strong foundation in Computer Science, software engineering, or a related field, with a proven track record of delivering high-quality solutions in a fast-paced, dynamic environment. You should be highly-experienced in CDN concepts, with in-depth knowledge of Akamai's suite of tools and security offerings. A strong understanding of API security requirements, web attack vectors, and threat indicators is also essential.Key Requirements:Location: Open to work in the Nike Atlanta Technology Center based in downtown Atlanta, GA, with a flexible 4/1 Hybrid schedule (Mon-Thurs in the office, Fridays optional at home).Education: Bachelor's Degree in IT-related discipline - Computer Science, Software Engineering, or or similar field of study or relevant professional experience, education, and trainingAt least five (5) or more years of relevant experienceTwo (2) or more years of experience providing similar operations and sustainment support with Akamai or other CDN providersCertifications: Professional/functional credentials and certifications in cloud infrastructure, security, or a related field are highly desirable (e.g., AWS Certified Solutions Architect, CISSP, CEH)Cyber security experience is highly desired, but not requiredWHAT YOU’LL WORK ONAs a CDN Security Engineer, you'll play a critical role in safeguarding Nike's digital presence by designing, implementing, and sustaining Nike’s cloud infrastructure and security posture. You'll be part of a dynamic team that thrives in a fast-paced, multi-functional environment, collaborating with cross-functional teams to drive innovation and excellence.Here's a glimpse into what you'll work on:Collaborative Problem-Solving: work closely with development teams, product owners, and other stakeholders to solve complex problems related to site reliability hosted at Akamai, ensuring seamless customer experiencesCDN Security Expertise: design, build, configure, deploy, and support Web Application Firewall (WAF), DDoS, and Bot mitigations, staying up-to-date with emerging threats and industry standardsAutomation and Efficiency: identify opportunities to drive automation, improving service health, manageability, and reliability, and proactively resolve operational, tooling, and process inefficienciesIncident Response and Troubleshooting: be part of the incident response team, troubleshooting and diagnosing performance and functional issues; you’ll maintain regular contact with internal customers during ongoing support and projectsDocumentation and Knowledge Sharing: maintain accurate project, design, process, and support documentation, updating our knowledge base and Standard Operating Procedures to ensure seamless knowledge transfer across teamsAkamai Security Leadership: be the primary point of contact for Akamai security troubleshooting and enhancements, working closely with the Akamai team to ensure our security posture is always up-to-dateInnovation and Growth: explore new technologies, collaborate with other teams on innovative projects, and contribute to the growth and development of our TechOps Infrastructure Engineering OrganizationWhy You'll Love This Role\\xa0At Nike, we're passionate about innovation, creativity, and community. As a CDN Security Engineer, you'll have the opportunity to:Work on high-impact projects that safeguard our digital presence and protect our customers' trustCollaborate with talented engineers and experts across the globeStay up-to-date with emerging threats and industry standards, and apply your knowledge to drive innovation and excellenceContribute to the growth and development of our TechOps Infrastructure Organization, and help shape the future of our cloud infrastructure and security postureEnjoy a flexible work environment, with opportunities to work remotely and maintain a healthy work-life balanceIf you're passionate about security, innovation, and collaboration, and you're looking for a role that will challenge and inspire you, we want to hear from you!We offer a number of accommodations to complete our interview process including screen readers, sign language interpreters, accessible and single location for in-person interviews, closed captioning, and other reasonable modifications as needed. If you discover, as you navigate our application process, that you need assistance or an accommodation due to a disability, please complete the Candidate Accommodation Request Form.\\n\\nNIKE, Inc. is a growth company that looks for team members to grow with it. Nike offers a\\n                            generous total rewards\\n                            package, casual work environment, a diverse and inclusive culture, and an electric\\n                            atmosphere for professional\\n                            development. No matter the location, or the role, every Nike employee shares one galvanizing\\n                            mission: To bring\\n                            inspiration and innovation to every athlete* in the world.\\nNIKE, Inc. is an equal opportunity employer. Qualified applicants will receive\\n                            consideration without\\n                            regard to race, color, religion, sex, national origin, age, sexual orientation, gender\\n                            identity, gender expression,\\n                            veteran status, or disability.\\n\\n\\n\\n\\n                                Apply Now\\n                            \\n\\n\\n\\n\\n\\n\\nShare Job\\n\\n\\n\\n\\nShare Job Posting\\n\\n\\n\\n\\n\\n\\nFaceboox\\nOpens In A New Tab\\n\\n\\n\\n\\n\\n\\n\\nLinkedIn\\nLink Opens In New Window\\n\\n\\n\\n\\n\\n\\n\\n\\nEmail\\n\\n\\n\\n\\n\\n\\nClose-Medium (Default Size)-icon\\n\\nClose Menu\\n\\n\\n\\n\\n\\n\\n\\n\\n\\n\\n\\nWhat You Can Expect\\nOUR HIRING GAME PLAN\\n\\n\\n01 Apply\\nOur teams are made up of diverse skillsets, knowledge bases, inputs, ideas and backgrounds.\\n                            We want you to find your fit – review job descriptions, departments and teams to discover\\n                            the role for you.\\n\\n\\n02 Meet a Recruiter or Take an Assessment\\nIf selected for a corporate role, a recruiter will reach out to start your interview process\\n                            and be your main contact\\n                            throughout the process. For retail roles, you’ll complete an interactive assessment that\\n                            includes a chat and quizzes and\\n                            takes about 10-20 minutes to complete.\\xa0 No matter the role, we want to learn about you – the\\n                            whole you – so don’t shy\\n                            away from how you approach world-class service and what makes you unique.\\n\\n\\n03 Interview\\nGo into this stage confident by doing your research, understanding what we are looking for\\n                            and being prepared for\\n                            questions that are set up to learn more about you, and your background.\\n\\n\\n\\n\\n\\n\\n\\n\\n\\n\\n\\n\\n\\n\\n\\n\\n\\n\\n\\n\\n\\n\\n\\n\\nHome\\n\\n\\nAbout Us\\n\\n\\nContact\\n\\n\\nTalent Community\\n\\n\\nTerms\\n\\n\\n\\n\\n\\n\\n\\n\\n\\n\\n\\n\\n\\n\\n\\n\\n\\n\\n\\n\\n\\n\\n\\n\\n\\n\\n\\n\\n\\n\\n\\n\\n\\n\\n\\n\\n\\n\\n\\n\\n\\n\\n              \\n                   \\n                    Nike Applicant Privacy Policy\\n                    \\n\\n\\n\\n\\n\\nWe offer a number of accommodations to complete our interview process including screen readers, sign language interpreters,\\n                accessible and single location for in-person interviews, closed captioning, and other reasonable modifications as\\n                needed.\\n\\n\\nIf you discover, as you navigate our application process, that you need assistance or an accommodation due to a\\n                disability, please contact us at +1 503-671-4156 and include your full name, best way to reach you, and the\\n                accommodation you request to assist with the application process.\\nFor more information, please refer to Equal Employment\\n                        Opportunity is The Law.\\n\\n\\n\\n©  Nike, Inc. All Rights Reserved\\n\\n\\n\\n\\n\\n\\n\\n\\n\\n\\n\\n\\n\\nCareers\\n\\n\\n\\n\\n\\n\\n\\n\\nChat\\nChat with our AI Assistant\\n\\n\\n\\n\\n\\n\\n\\n\\n\\n\\n\\n\\n\\n\\n\\n\""
      ]
     },
     "execution_count": 3,
     "metadata": {},
     "output_type": "execute_result"
    }
   ],
   "source": [
    "page_data = loader.load().pop().page_content\n",
    "page_data"
   ]
  },
  {
   "cell_type": "markdown",
   "id": "adfa7755-0b0f-4549-925e-4f95fe11be13",
   "metadata": {},
   "source": [
    "# Prompt "
   ]
  },
  {
   "cell_type": "code",
   "execution_count": 6,
   "id": "d57edda1-81f4-4f21-8336-0fb80010ab0b",
   "metadata": {},
   "outputs": [],
   "source": [
    "from langchain_core.prompts import PromptTemplate"
   ]
  },
  {
   "cell_type": "code",
   "execution_count": 31,
   "id": "b073c984-c526-4633-85cf-177c4389ec8a",
   "metadata": {},
   "outputs": [],
   "source": [
    "from langchain_core.prompts import PromptTemplate\n",
    "\n",
    "prompt_extract = PromptTemplate.from_template(\n",
    "        \"\"\"\n",
    "        ### SCRAPED TEXT FROM WEBSITE:\n",
    "        {page_data}\n",
    "        ### INSTRUCTION:\n",
    "        The scraped text is from the career's page of a website.\n",
    "        Your job is to extract the job postings and return them in JSON format containing the \n",
    "        following keys: `role`, `experience`, `skills` and `description`.\n",
    "        For skills put it as an array of strings , each string representing one of the required skills.\n",
    "        Only return the valid JSON.\n",
    "        ### VALID JSON (NO PREAMBLE):    \n",
    "        \"\"\"\n",
    ")"
   ]
  },
  {
   "cell_type": "code",
   "execution_count": 32,
   "id": "0717672c-9b2c-424e-8530-5e8bf18fad71",
   "metadata": {},
   "outputs": [],
   "source": [
    "chain_extract = prompt_extract | llm"
   ]
  },
  {
   "cell_type": "code",
   "execution_count": 33,
   "id": "ae3def17-fc83-48c1-b0b5-8c7d56a98393",
   "metadata": {},
   "outputs": [
    {
     "name": "stdout",
     "output_type": "stream",
     "text": [
      "```json\n",
      "{\n",
      "  \"role\": \"CDN Security Engineer\",\n",
      "  \"experience\": \"At least five (5) or more years of relevant experience, Two (2) or more years of experience providing similar operations and sustainment support with Akamai or other CDN providers\",\n",
      "  \"skills\": [\n",
      "    \"CDN concepts\",\n",
      "    \"Akamai's suite of tools and security offerings\",\n",
      "    \"API security requirements\",\n",
      "    \"Web attack vectors\",\n",
      "    \"Threat indicators\",\n",
      "    \"Cloud infrastructure\",\n",
      "    \"Security\",\n",
      "    \"AWS Certified Solutions Architect\",\n",
      "    \"CISSP\",\n",
      "    \"CEH\"\n",
      "  ],\n",
      "  \"description\": \"The CDN Security Engineer is an experienced technical professional who will play a critical role in designing, implementing, and sustaining Nike's cloud infrastructure and security posture, with a focus on Content Delivery Network (CDN) security.\"\n",
      "}\n",
      "```\n"
     ]
    }
   ],
   "source": [
    "res = chain_extract.invoke(input = {'page_data' : page_data})\n",
    "print(res.content)  "
   ]
  },
  {
   "cell_type": "code",
   "execution_count": 34,
   "id": "63eceaa8-179c-4894-8cc6-d2ac136fdaa2",
   "metadata": {},
   "outputs": [
    {
     "data": {
      "text/plain": [
       "str"
      ]
     },
     "execution_count": 34,
     "metadata": {},
     "output_type": "execute_result"
    }
   ],
   "source": [
    "type(res.content)\n",
    "# this is in string , need to convert to json"
   ]
  },
  {
   "cell_type": "code",
   "execution_count": 35,
   "id": "0770c013-30f8-4d06-be59-a8bd8eb9940a",
   "metadata": {},
   "outputs": [
    {
     "data": {
      "text/plain": [
       "{'role': 'CDN Security Engineer',\n",
       " 'experience': 'At least five (5) or more years of relevant experience, Two (2) or more years of experience providing similar operations and sustainment support with Akamai or other CDN providers',\n",
       " 'skills': ['CDN concepts',\n",
       "  \"Akamai's suite of tools and security offerings\",\n",
       "  'API security requirements',\n",
       "  'Web attack vectors',\n",
       "  'Threat indicators',\n",
       "  'Cloud infrastructure',\n",
       "  'Security',\n",
       "  'AWS Certified Solutions Architect',\n",
       "  'CISSP',\n",
       "  'CEH'],\n",
       " 'description': \"The CDN Security Engineer is an experienced technical professional who will play a critical role in designing, implementing, and sustaining Nike's cloud infrastructure and security posture, with a focus on Content Delivery Network (CDN) security.\"}"
      ]
     },
     "execution_count": 35,
     "metadata": {},
     "output_type": "execute_result"
    }
   ],
   "source": [
    "from langchain_core.output_parsers import JsonOutputParser\n",
    "\n",
    "json_parser = JsonOutputParser()\n",
    "json_res = json_parser.parse(res.content)\n",
    "json_res"
   ]
  },
  {
   "cell_type": "code",
   "execution_count": 36,
   "id": "0965e17b-e55f-4eab-a8e2-937ff98ae2be",
   "metadata": {},
   "outputs": [
    {
     "data": {
      "text/html": [
       "<div>\n",
       "<style scoped>\n",
       "    .dataframe tbody tr th:only-of-type {\n",
       "        vertical-align: middle;\n",
       "    }\n",
       "\n",
       "    .dataframe tbody tr th {\n",
       "        vertical-align: top;\n",
       "    }\n",
       "\n",
       "    .dataframe thead th {\n",
       "        text-align: right;\n",
       "    }\n",
       "</style>\n",
       "<table border=\"1\" class=\"dataframe\">\n",
       "  <thead>\n",
       "    <tr style=\"text-align: right;\">\n",
       "      <th></th>\n",
       "      <th>Techstack</th>\n",
       "      <th>Links</th>\n",
       "    </tr>\n",
       "  </thead>\n",
       "  <tbody>\n",
       "    <tr>\n",
       "      <th>0</th>\n",
       "      <td>React, Node.js, MongoDB</td>\n",
       "      <td>https://example.com/react-portfolio</td>\n",
       "    </tr>\n",
       "    <tr>\n",
       "      <th>1</th>\n",
       "      <td>Angular,.NET, SQL Server</td>\n",
       "      <td>https://example.com/angular-portfolio</td>\n",
       "    </tr>\n",
       "    <tr>\n",
       "      <th>2</th>\n",
       "      <td>Vue.js, Ruby on Rails, PostgreSQL</td>\n",
       "      <td>https://example.com/vue-portfolio</td>\n",
       "    </tr>\n",
       "    <tr>\n",
       "      <th>3</th>\n",
       "      <td>Python, Django, MySQL</td>\n",
       "      <td>https://example.com/python-portfolio</td>\n",
       "    </tr>\n",
       "    <tr>\n",
       "      <th>4</th>\n",
       "      <td>Java, Spring Boot, Oracle</td>\n",
       "      <td>https://example.com/java-portfolio</td>\n",
       "    </tr>\n",
       "    <tr>\n",
       "      <th>5</th>\n",
       "      <td>Flutter, Firebase, GraphQL</td>\n",
       "      <td>https://example.com/flutter-portfolio</td>\n",
       "    </tr>\n",
       "    <tr>\n",
       "      <th>6</th>\n",
       "      <td>WordPress, PHP, MySQL</td>\n",
       "      <td>https://example.com/wordpress-portfolio</td>\n",
       "    </tr>\n",
       "    <tr>\n",
       "      <th>7</th>\n",
       "      <td>Magento, PHP, MySQL</td>\n",
       "      <td>https://example.com/magento-portfolio</td>\n",
       "    </tr>\n",
       "    <tr>\n",
       "      <th>8</th>\n",
       "      <td>React Native, Node.js, MongoDB</td>\n",
       "      <td>https://example.com/react-native-portfolio</td>\n",
       "    </tr>\n",
       "    <tr>\n",
       "      <th>9</th>\n",
       "      <td>iOS, Swift, Core Data</td>\n",
       "      <td>https://example.com/ios-portfolio</td>\n",
       "    </tr>\n",
       "    <tr>\n",
       "      <th>10</th>\n",
       "      <td>Android, Java, Room Persistence</td>\n",
       "      <td>https://example.com/android-portfolio</td>\n",
       "    </tr>\n",
       "    <tr>\n",
       "      <th>11</th>\n",
       "      <td>Kotlin, Android, Firebase</td>\n",
       "      <td>https://example.com/kotlin-android-portfolio</td>\n",
       "    </tr>\n",
       "    <tr>\n",
       "      <th>12</th>\n",
       "      <td>Android TV, Kotlin, Android NDK</td>\n",
       "      <td>https://example.com/android-tv-portfolio</td>\n",
       "    </tr>\n",
       "    <tr>\n",
       "      <th>13</th>\n",
       "      <td>iOS, Swift, ARKit</td>\n",
       "      <td>https://example.com/ios-ar-portfolio</td>\n",
       "    </tr>\n",
       "    <tr>\n",
       "      <th>14</th>\n",
       "      <td>Cross-platform, Xamarin, Azure</td>\n",
       "      <td>https://example.com/xamarin-portfolio</td>\n",
       "    </tr>\n",
       "    <tr>\n",
       "      <th>15</th>\n",
       "      <td>Backend, Kotlin, Spring Boot</td>\n",
       "      <td>https://example.com/kotlin-backend-portfolio</td>\n",
       "    </tr>\n",
       "    <tr>\n",
       "      <th>16</th>\n",
       "      <td>Frontend, TypeScript, Angular</td>\n",
       "      <td>https://example.com/typescript-frontend-portfolio</td>\n",
       "    </tr>\n",
       "    <tr>\n",
       "      <th>17</th>\n",
       "      <td>Full-stack, JavaScript, Express.js</td>\n",
       "      <td>https://example.com/full-stack-js-portfolio</td>\n",
       "    </tr>\n",
       "    <tr>\n",
       "      <th>18</th>\n",
       "      <td>Machine Learning, Python, TensorFlow</td>\n",
       "      <td>https://example.com/ml-python-portfolio</td>\n",
       "    </tr>\n",
       "    <tr>\n",
       "      <th>19</th>\n",
       "      <td>DevOps, Jenkins, Docker</td>\n",
       "      <td>https://example.com/devops-portfolio</td>\n",
       "    </tr>\n",
       "  </tbody>\n",
       "</table>\n",
       "</div>"
      ],
      "text/plain": [
       "                               Techstack  \\\n",
       "0                React, Node.js, MongoDB   \n",
       "1               Angular,.NET, SQL Server   \n",
       "2      Vue.js, Ruby on Rails, PostgreSQL   \n",
       "3                  Python, Django, MySQL   \n",
       "4              Java, Spring Boot, Oracle   \n",
       "5             Flutter, Firebase, GraphQL   \n",
       "6                  WordPress, PHP, MySQL   \n",
       "7                    Magento, PHP, MySQL   \n",
       "8         React Native, Node.js, MongoDB   \n",
       "9                  iOS, Swift, Core Data   \n",
       "10       Android, Java, Room Persistence   \n",
       "11             Kotlin, Android, Firebase   \n",
       "12       Android TV, Kotlin, Android NDK   \n",
       "13                     iOS, Swift, ARKit   \n",
       "14        Cross-platform, Xamarin, Azure   \n",
       "15          Backend, Kotlin, Spring Boot   \n",
       "16         Frontend, TypeScript, Angular   \n",
       "17    Full-stack, JavaScript, Express.js   \n",
       "18  Machine Learning, Python, TensorFlow   \n",
       "19               DevOps, Jenkins, Docker   \n",
       "\n",
       "                                                Links  \n",
       "0                 https://example.com/react-portfolio  \n",
       "1               https://example.com/angular-portfolio  \n",
       "2                   https://example.com/vue-portfolio  \n",
       "3                https://example.com/python-portfolio  \n",
       "4                  https://example.com/java-portfolio  \n",
       "5               https://example.com/flutter-portfolio  \n",
       "6             https://example.com/wordpress-portfolio  \n",
       "7               https://example.com/magento-portfolio  \n",
       "8          https://example.com/react-native-portfolio  \n",
       "9                   https://example.com/ios-portfolio  \n",
       "10              https://example.com/android-portfolio  \n",
       "11       https://example.com/kotlin-android-portfolio  \n",
       "12           https://example.com/android-tv-portfolio  \n",
       "13               https://example.com/ios-ar-portfolio  \n",
       "14              https://example.com/xamarin-portfolio  \n",
       "15       https://example.com/kotlin-backend-portfolio  \n",
       "16  https://example.com/typescript-frontend-portfolio  \n",
       "17        https://example.com/full-stack-js-portfolio  \n",
       "18            https://example.com/ml-python-portfolio  \n",
       "19               https://example.com/devops-portfolio  "
      ]
     },
     "execution_count": 36,
     "metadata": {},
     "output_type": "execute_result"
    }
   ],
   "source": [
    "import pandas as pd\n",
    "\n",
    "df = pd.read_csv(\"my_portfolio.csv\")\n",
    "df"
   ]
  },
  {
   "cell_type": "code",
   "execution_count": 23,
   "id": "7159abf6-e7a5-43c3-bca3-8f4dd1fc1aef",
   "metadata": {},
   "outputs": [],
   "source": [
    "\n",
    "import uuid\n",
    "import chromadb\n",
    "\n",
    "client = chromadb.PersistentClient('vectorstore')\n",
    "collection = client.get_or_create_collection(name=\"portfolio\")\n",
    "\n",
    "if not collection.count():\n",
    "    for _, row in df.iterrows():\n",
    "        collection.add(documents=row[\"Techstack\"],\n",
    "                       metadatas={\"links\": row[\"Links\"]},\n",
    "                       ids=[str(uuid.uuid4())])"
   ]
  },
  {
   "cell_type": "code",
   "execution_count": 26,
   "id": "a1186b8e-4afd-488e-bd75-c969666195e8",
   "metadata": {},
   "outputs": [
    {
     "data": {
      "text/plain": [
       "{'ids': [['e2d44e3d-3e0e-4615-a814-a3fbf3af2b92',\n",
       "   '9cde191f-4997-4dec-9c0e-22a914ad0ee7']],\n",
       " 'embeddings': None,\n",
       " 'documents': [['Machine Learning, Python, TensorFlow',\n",
       "   'Python, Django, MySQL']],\n",
       " 'uris': None,\n",
       " 'data': None,\n",
       " 'metadatas': [[{'links': 'https://example.com/ml-python-portfolio'},\n",
       "   {'links': 'https://example.com/python-portfolio'}]],\n",
       " 'distances': [[0.9968848007555503, 1.0578701721493369]],\n",
       " 'included': [<IncludeEnum.distances: 'distances'>,\n",
       "  <IncludeEnum.documents: 'documents'>,\n",
       "  <IncludeEnum.metadatas: 'metadatas'>]}"
      ]
     },
     "execution_count": 26,
     "metadata": {},
     "output_type": "execute_result"
    }
   ],
   "source": [
    "links = collection.query(query_texts = [ \"experience in python\"] , n_results = 2)\n",
    "links\n",
    "# chroma db can do a semantic search\n",
    "# for python it brings two links which are related\n",
    "# 'links': 'https://example.com/ml-python-portfolio'},\n",
    "#    {'links': 'https://example.com/python-portfolio'}"
   ]
  },
  {
   "cell_type": "code",
   "execution_count": 37,
   "id": "77fa672f-cd88-442c-aba8-b14ebf2978a3",
   "metadata": {},
   "outputs": [
    {
     "data": {
      "text/plain": [
       "['CDN concepts',\n",
       " \"Akamai's suite of tools and security offerings\",\n",
       " 'API security requirements',\n",
       " 'Web attack vectors',\n",
       " 'Threat indicators',\n",
       " 'Cloud infrastructure',\n",
       " 'Security',\n",
       " 'AWS Certified Solutions Architect',\n",
       " 'CISSP',\n",
       " 'CEH']"
      ]
     },
     "execution_count": 37,
     "metadata": {},
     "output_type": "execute_result"
    }
   ],
   "source": [
    "job = json_res\n",
    "job['skills']"
   ]
  },
  {
   "cell_type": "code",
   "execution_count": 42,
   "id": "567c1fab-ef76-48a9-9c25-63bd90d9dc1a",
   "metadata": {},
   "outputs": [
    {
     "data": {
      "text/plain": [
       "[[{'links': 'https://example.com/android-tv-portfolio'},\n",
       "  {'links': 'https://example.com/java-portfolio'}],\n",
       " [{'links': 'https://example.com/kotlin-android-portfolio'},\n",
       "  {'links': 'https://example.com/ios-ar-portfolio'}],\n",
       " [{'links': 'https://example.com/flutter-portfolio'},\n",
       "  {'links': 'https://example.com/typescript-frontend-portfolio'}],\n",
       " [{'links': 'https://example.com/full-stack-js-portfolio'},\n",
       "  {'links': 'https://example.com/magento-portfolio'}],\n",
       " [{'links': 'https://example.com/ml-python-portfolio'},\n",
       "  {'links': 'https://example.com/devops-portfolio'}],\n",
       " [{'links': 'https://example.com/xamarin-portfolio'},\n",
       "  {'links': 'https://example.com/devops-portfolio'}],\n",
       " [{'links': 'https://example.com/magento-portfolio'},\n",
       "  {'links': 'https://example.com/android-portfolio'}],\n",
       " [{'links': 'https://example.com/devops-portfolio'},\n",
       "  {'links': 'https://example.com/ios-ar-portfolio'}],\n",
       " [{'links': 'https://example.com/magento-portfolio'},\n",
       "  {'links': 'https://example.com/kotlin-backend-portfolio'}],\n",
       " [{'links': 'https://example.com/devops-portfolio'},\n",
       "  {'links': 'https://example.com/android-tv-portfolio'}]]"
      ]
     },
     "execution_count": 42,
     "metadata": {},
     "output_type": "execute_result"
    }
   ],
   "source": [
    "links = collection.query(query_texts = job['skills'] , n_results = 2).get('metadatas' , [])\n",
    "links\n",
    "# for each skill , we extract 2 relevant links"
   ]
  },
  {
   "cell_type": "markdown",
   "id": "97f876f3-4345-4d3c-b14e-dd5b79778a1b",
   "metadata": {},
   "source": [
    "# Email generation"
   ]
  },
  {
   "cell_type": "code",
   "execution_count": 47,
   "id": "e0f8bd5e-97f3-4feb-9fde-754cd9d594f1",
   "metadata": {},
   "outputs": [],
   "source": [
    "\n",
    "prompt_email = PromptTemplate.from_template(\n",
    "        \"\"\"\n",
    "        ### JOB DESCRIPTION:\n",
    "        {job_description}\n",
    "        \n",
    "        ### INSTRUCTION:\n",
    "        You are Ankit, a software engineer with 1 year of experience.\n",
    "        You have epertise in Java , ReactJs , Springboot and Data structures & Algorithms.\n",
    "        \n",
    "        Your job is to write a cold email to the HR regarding the job mentioned above describing how you are suited for the job. \n",
    "        \n",
    "        Also add the most relevant ones from the following links to showcase your portfolio: {link_list}\n",
    "        Remember you are Ankit , a software engineer.\n",
    "        Do not provide a preamble.\n",
    "        ### EMAIL (NO PREAMBLE):\n",
    "        \n",
    "        \"\"\"\n",
    "        )\n"
   ]
  },
  {
   "cell_type": "code",
   "execution_count": 49,
   "id": "163a2e54-2d31-44bd-bf09-21c4c7a2ccf7",
   "metadata": {},
   "outputs": [
    {
     "name": "stdout",
     "output_type": "stream",
     "text": [
      "Subject: Application for CDN Security Engineer Position\n",
      "\n",
      "Dear Hiring Manager,\n",
      "\n",
      "I am excited to apply for the CDN Security Engineer position at Nike, as advertised. Although I don't meet the exact experience requirements, I am confident that my strong foundation in software engineering and my enthusiasm for security and cloud infrastructure make me an ideal candidate for this role.\n",
      "\n",
      "As a software engineer with 1 year of experience, I have developed expertise in Java, ReactJs, Springboot, and Data structures & Algorithms. I am eager to expand my skill set and take on new challenges, particularly in the areas of CDN security and cloud infrastructure. I am a quick learner, and I am excited about the opportunity to work with Akamai's suite of tools and security offerings.\n",
      "\n",
      "I would like to showcase my portfolio, which demonstrates my proficiency in software development. Some relevant projects include:\n",
      "- https://example.com/java-portfolio (Java portfolio)\n",
      "- https://example.com/full-stack-js-portfolio (Full-stack JS portfolio)\n",
      "- https://example.com/devops-portfolio (DevOps portfolio)\n",
      "\n",
      "These projects demonstrate my ability to design, develop, and deploy software applications, which I believe are essential skills for a CDN Security Engineer. I am confident that my strong work ethic, combined with my passion for security and cloud infrastructure, make me a strong candidate for this position.\n",
      "\n",
      "I am particularly drawn to this role because of the opportunity to work on designing, implementing, and sustaining Nike's cloud infrastructure and security posture. I am excited about the prospect of working with a talented team to ensure the security and integrity of Nike's online presence.\n",
      "\n",
      "Thank you for considering my application. I would welcome the opportunity to discuss my qualifications further and explain in greater detail why I am the ideal candidate for this role.\n",
      "\n",
      "Best regards,\n",
      "Ankit\n"
     ]
    }
   ],
   "source": [
    "chain_email = prompt_email | llm\n",
    "res = chain_email.invoke({\"job_description\":str(job) , \"link_list\": links})\n",
    "print(res.content)"
   ]
  },
  {
   "cell_type": "code",
   "execution_count": null,
   "id": "f2a562a9-d9f6-4a1a-94c6-e7bcda1d81b3",
   "metadata": {},
   "outputs": [],
   "source": []
  }
 ],
 "metadata": {
  "kernelspec": {
   "display_name": "Python 3 (ipykernel)",
   "language": "python",
   "name": "python3"
  },
  "language_info": {
   "codemirror_mode": {
    "name": "ipython",
    "version": 3
   },
   "file_extension": ".py",
   "mimetype": "text/x-python",
   "name": "python",
   "nbconvert_exporter": "python",
   "pygments_lexer": "ipython3",
   "version": "3.10.11"
  }
 },
 "nbformat": 4,
 "nbformat_minor": 5
}

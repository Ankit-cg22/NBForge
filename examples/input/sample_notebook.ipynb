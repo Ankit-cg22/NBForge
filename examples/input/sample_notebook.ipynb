{
 "cells": [
  {
   "cell_type": "markdown",
   "id": "e1a3d0e6",
   "metadata": {},
   "source": [
    "# Sample Jupyter Notebook\n",
    "This is a test notebook for conversion."
   ]
  },
  {
   "cell_type": "code",
   "execution_count": null,
   "id": "6c6f19c0",
   "metadata": {},
   "outputs": [],
   "source": [
    "import numpy as np\n",
    "import pandas as pd"
   ]
  },
  {
   "cell_type": "code",
   "execution_count": null,
   "id": "a781b2c3",
   "metadata": {},
   "outputs": [],
   "source": [
    "def greet(name):\n",
    "    return f\"Hello, {name}!\"\n"
   ]
  },
  {
   "cell_type": "markdown",
   "id": "7f1a345b",
   "metadata": {},
   "source": [
    "### Function: greet\n",
    "This function takes a name and returns a greeting message."
   ]
  },
  {
   "cell_type": "markdown",
   "id": "ed177e10",
   "metadata": {},
   "source": []
  },
  {
   "cell_type": "code",
   "execution_count": null,
   "id": "18ce71c1",
   "metadata": {},
   "outputs": [],
   "source": [
    "name = \"Alice\"\n",
    "message = greet(name)\n",
    "print(message)\n"
   ]
  },
  {
   "cell_type": "markdown",
   "id": "d4da3bec",
   "metadata": {},
   "source": [
    "### Dataframe operations\n",
    "- This below code shows how a df works"
   ]
  },
  {
   "cell_type": "code",
   "execution_count": null,
   "id": "91330a26",
   "metadata": {},
   "outputs": [],
   "source": [
    "data = {'A': [1, 2, 3], 'B': [4, 5, 6]}\n",
    "df = pd.DataFrame(data)\n",
    "print(df)\n"
   ]
  }
 ],
 "metadata": {
  "language_info": {
   "name": "python"
  }
 },
 "nbformat": 4,
 "nbformat_minor": 5
}
